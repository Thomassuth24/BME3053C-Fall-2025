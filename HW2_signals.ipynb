{
  "nbformat": 4,
  "nbformat_minor": 0,
  "metadata": {
    "colab": {
      "provenance": [],
      "authorship_tag": "ABX9TyNtFrbn7hwxvGSl9Q1HGtj4",
      "include_colab_link": true
    },
    "kernelspec": {
      "name": "python3",
      "display_name": "Python 3"
    },
    "language_info": {
      "name": "python"
    }
  },
  "cells": [
    {
      "cell_type": "markdown",
      "metadata": {
        "id": "view-in-github",
        "colab_type": "text"
      },
      "source": [
        "<a href=\"https://colab.research.google.com/github/Thomassuth24/BME3053C-Fall-2025/blob/main/HW2_signals.ipynb\" target=\"_parent\"><img src=\"https://colab.research.google.com/assets/colab-badge.svg\" alt=\"Open In Colab\"/></a>"
      ]
    },
    {
      "cell_type": "code",
      "execution_count": 1,
      "metadata": {
        "colab": {
          "base_uri": "https://localhost:8080/"
        },
        "id": "X-ZjrIqoMXqC",
        "outputId": "d7226b44-8328-4de7-ee56-c361735bc341"
      },
      "outputs": [
        {
          "output_type": "stream",
          "name": "stdout",
          "text": [
            "Max: 173\n",
            "Min: 120\n",
            "Normalized readings: [0.0, 0.32075471698113206, 0.5849056603773585, 0.05660377358490566, 0.7924528301886793, 1.0, 0.1320754716981132, 0.6415094339622641]\n"
          ]
        }
      ],
      "source": [
        "def find_max(lst):\n",
        "    return max(lst)\n",
        "\n",
        "def find_min(lst):\n",
        "    return min(lst)\n",
        "\n",
        "def normalize_list(lst):\n",
        "    min_val = find_min(lst)\n",
        "    max_val = find_max(lst)\n",
        "    normalized = []\n",
        "    for value in lst:\n",
        "        norm = (value - min_val) / (max_val - min_val)\n",
        "        normalized.append(norm)\n",
        "    return normalized\n",
        "\n",
        "bp_readings = [120, 137, 151, 123, 162, 173, 127, 154]\n",
        "\n",
        "print(\"Max:\", find_max(bp_readings))\n",
        "print(\"Min:\", find_min(bp_readings))\n",
        "\n",
        "normalized_values = normalize_list(bp_readings)\n",
        "print(\"Normalized readings:\", normalized_values)"
      ]
    }
  ]
}